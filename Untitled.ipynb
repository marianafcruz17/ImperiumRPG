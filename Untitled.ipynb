{
 "cells": [
  {
   "cell_type": "code",
   "execution_count": 33,
   "metadata": {},
   "outputs": [],
   "source": [
    "import PySimpleGUI as sg "
   ]
  },
  {
   "cell_type": "code",
   "execution_count": 81,
   "metadata": {},
   "outputs": [],
   "source": [
    "class TelaAtaqueFarroupilha:\n",
    "    def __init__(self, ataque):\n",
    "        sg.change_look_and_feel('Purple')\n",
    "\n",
    "        panchando_adaga_img = \"/home/stefanini/Documentos/IESB/6to/05-poo/ImperiumRPG/imperiumRpg/Imagens/timo-werner-germany-world-cup_lmv4q43vvn2c1mxz4748tv7h8.png\"\n",
    "        mateando_img = \"/home/stefanini/Documentos/IESB/6to/05-poo/ImperiumRPG/imperiumRpg/Imagens/timo-werner-germany-world-cup_lmv4q43vvn2c1mxz4748tv7h8.png\"\n",
    "        pala_img = \"/home/stefanini/Documentos/IESB/6to/05-poo/ImperiumRPG/imperiumRpg/Imagens/90553736_2769081596521130_6112948483344302080_o.png\"\n",
    "        gritos_img = \"/home/stefanini/Documentos/IESB/6to/05-poo/ImperiumRPG/imperiumRpg/Imagens/Novo Projeto.png\"\n",
    "        desenhar_img = \"/home/stefanini/Documentos/IESB/6to/05-poo/ImperiumRPG/imperiumRpg/Imagens/5c6eada5a1c015297681b5f8.png\"\n",
    "        tertulia_img = \"/home/stefanini/Documentos/IESB/6to/05-poo/ImperiumRPG/imperiumRpg/Imagens/download.png\"\n",
    "        gritos_lib_img = \"/home/stefanini/Documentos/IESB/6to/05-poo/ImperiumRPG/imperiumRpg/Imagens/5c6eada5a1c015297681b5f8.png\"\n",
    "        morte_img = \"/home/stefanini/Documentos/IESB/6to/05-poo/ImperiumRPG/imperiumRpg/Imagens/Novo Projeto.png\"\n",
    "        pocao_img = \"/home/stefanini/Documentos/IESB/6to/05-poo/ImperiumRPG/imperiumRpg/Imagens/download.png\"\n",
    "        \n",
    "        imagens_gui = {\n",
    "            \"pranchando_adaga\": panchando_adaga_img,\n",
    "            \"mateando\": mateando_img,\n",
    "            \"pala\": pala_img,\n",
    "            \"grito_de_guerra\": gritos_img,\n",
    "            \"desenhar_a_desgraca\": desenhar_img,\n",
    "            \"tertulia\": tertulia_img, \n",
    "            \"gritos_de_liberdade\": gritos_lib_img,\n",
    "            \"morte\": morte_img,\n",
    "            \"pocao_ok\": pocao_img\n",
    "        }\n",
    "        \n",
    "        for key in imagens_gui:\n",
    "            if ataque == key:\n",
    "                ataque = imagens_gui[key]\n",
    "                break\n",
    "        \n",
    "        layout = [\n",
    "            [sg.Image(ataque),],\n",
    "            [sg.Text('Fulano ataca Ciclano', font='Courier 12', text_color='green', background_color='black')],\n",
    "            [sg.Text('sara')]\n",
    "        ]\n",
    "        \n",
    "        self.janela = sg.Window(\"Dados do usuário\").layout(layout)\n",
    "        \n",
    "    def iniciar(self):\n",
    "        while True:\n",
    "            self.button, self.values = self.janela.Read()\n",
    "            break\n",
    "        self.janela.close()"
   ]
  },
  {
   "cell_type": "code",
   "execution_count": null,
   "metadata": {},
   "outputs": [],
   "source": []
  },
  {
   "cell_type": "code",
   "execution_count": null,
   "metadata": {},
   "outputs": [],
   "source": []
  },
  {
   "cell_type": "code",
   "execution_count": 83,
   "metadata": {},
   "outputs": [],
   "source": [
    "tela = TelaAtaqueFarroupilha('mateando')\n",
    "tela.iniciar()"
   ]
  },
  {
   "cell_type": "markdown",
   "metadata": {},
   "source": [
    "# Bugs\n",
    "\n",
    "* Quando utilizar o metodo pala, o objeto não pode se auto destruir, assim mesmo morto o personagem irá existir"
   ]
  },
  {
   "cell_type": "code",
   "execution_count": 7,
   "metadata": {},
   "outputs": [],
   "source": [
    "from abc import abstractmethod"
   ]
  },
  {
   "cell_type": "code",
   "execution_count": 8,
   "metadata": {},
   "outputs": [],
   "source": [
    "class Principal:\n",
    "    \n",
    "    @abstractmethod\n",
    "    def distancia_ataque(self):\n",
    "        pass\n",
    "    \n",
    "    def resistencia(self):\n",
    "        pass"
   ]
  },
  {
   "cell_type": "code",
   "execution_count": 60,
   "metadata": {},
   "outputs": [],
   "source": [
    "class Personagem(Principal):\n",
    "    def __init__(self, nome:str, tipo:int, distancia_ataque:int, resistencia:int,\n",
    "                  pontos_vida:float, pontos_mana:float, pontos_ataque:int):\n",
    "        self._nome = nome\n",
    "        self._tipo = tipo\n",
    "        self._distancia_ataque = distancia_ataque\n",
    "        self._resistencia = resistencia\n",
    "        self._pontos_vida = pontos_vida\n",
    "        self._pontos_mana = pontos_mana\n",
    "        self._pontos_ataque = pontos_ataque\n",
    "    \n",
    "    '''getters e setters'''\n",
    "    @property\n",
    "    def nome(self) -> str:\n",
    "        return self._nome\n",
    "    \n",
    "    @nome.setter\n",
    "    def nome(self, novo_nome:str):\n",
    "        self._nome = novo_nome\n",
    "        \n",
    "    @property\n",
    "    def tipo(self) -> str:\n",
    "        return self._tipo\n",
    "    \n",
    "    @tipo.setter\n",
    "    def tipo(self, novo_tipo:str):\n",
    "        self._tipo = novo_tipo\n",
    "        \n",
    "    @property\n",
    "    def distancia_ataque(self) -> int:\n",
    "        return self._distancia_ataque\n",
    "    \n",
    "    @distancia_ataque.setter\n",
    "    def distancia_ataque(self, novo_ataque: int):\n",
    "        self._distancia_ataque = novo_ataque\n",
    "        \n",
    "    @property\n",
    "    def resistencia(self) -> int:\n",
    "        return self._resistencia\n",
    "    \n",
    "    @resistencia.setter\n",
    "    def resistencia(self, nova_resistencia:int):\n",
    "        self._resistencia = nova_resistencia\n",
    "        \n",
    "    @property\n",
    "    def pontos_vida(self) -> float:\n",
    "        return self._pontos_vida\n",
    "    \n",
    "    @pontos_vida.setter\n",
    "    def pontos_vida(self, novo_pts_vida:float):\n",
    "        self._pontos_vida = novo_pts_vida\n",
    "        \n",
    "    @property\n",
    "    def pontos_mana(self) -> float:\n",
    "        return self._pontos_mana\n",
    "    \n",
    "    @pontos_mana.setter\n",
    "    def pontos_mana(self, novo_pts_mana: float):\n",
    "        self._pontos_mana = novo_pts_mana\n",
    "        \n",
    "    @property\n",
    "    def pontos_ataque(self) -> int:\n",
    "        return self._pontos_ataque\n",
    "    \n",
    "    @pontos_ataque.setter\n",
    "    def pontos_ataque(self, novo_pts_ataque:int):\n",
    "        self._pontos_ataque = novo_pts_ataque\n",
    "        \n",
    "#     '''metodos da classe'''\n",
    "#     def perder_vida(self, loss:int):\n",
    "#         self._pontos_vida = self._pontos_vida - loss\n",
    "#         return f'A vida deste personagem agora é {self._pontos_vida}'\n",
    "    \n",
    "    def grito_de_guerra(self): \n",
    "        tela = TelaAtaqueFarroupilha('grito_de_guerra')\n",
    "        tela.iniciar()\n",
    "    \n",
    "    def __str__(self):\n",
    "        return \"Personagem criado\"\n",
    "    \n",
    "    def __del__(self):\n",
    "        print(f'{self._nome.title()} bateu as bota')"
   ]
  },
  {
   "cell_type": "code",
   "execution_count": 52,
   "metadata": {},
   "outputs": [],
   "source": [
    "class Farroupilha(Personagem, TelaAtaqueFarroupilha):\n",
    "    def __init__(self, nome:str, tipo:int, distancia_ataque:int, resistencia:int,\n",
    "                  pontos_vida:float, pontos_mana:float, pontos_ataque:int, diplomacia:int,\n",
    "                  cavaleiro:bool, mateador:float, guapo:int):\n",
    "        super().__init__(nome, tipo, distancia_ataque, resistencia, pontos_vida, pontos_mana,\n",
    "                         pontos_ataque)\n",
    "        self._diplomacia = diplomacia\n",
    "        self._cavaleiro = cavaleiro\n",
    "        self._mateador = mateador\n",
    "        self._guapo = guapo\n",
    "    \n",
    "    @property\n",
    "    def diplomacia(self) -> int:\n",
    "        return self._diplomacia\n",
    "    \n",
    "    @diplomacia.setter\n",
    "    def diplomacia(self, nova_diplomacia:int):\n",
    "        self._diplomacia = diplomacia\n",
    "        \n",
    "    @property\n",
    "    def cavaleiro(self) -> bool:\n",
    "        return self._cavaleiro\n",
    "    \n",
    "    @cavaleiro.setter\n",
    "    def cavaleiro(self, novo_cavaleiro:bool):\n",
    "        self._cavaleiro = novo_cavaleiro\n",
    "        \n",
    "    @property\n",
    "    def mateador(self) -> float:\n",
    "        return self._mateador\n",
    "    \n",
    "    @mateador.setter\n",
    "    def mateador(self, novo_mateador:float):\n",
    "        self._novo_mateador = novo_mateador\n",
    "        \n",
    "    @property\n",
    "    def guapo(self) -> int:\n",
    "        return self._guapo\n",
    "    \n",
    "    @guapo.setter\n",
    "    def guapo(self, novo_guapo:int):\n",
    "        self._guapo = novo_guapo\n",
    "        \n",
    "    def pranchando_adaga(self, inimigo):\n",
    "        '''\n",
    "            Farroupilha saca a adaga da sua bota para desenhar o fio em seus\n",
    "            adversários.\n",
    "        '''\n",
    "        \n",
    "        ataque = (self._pontos_ataque + self._guapo)\n",
    "        \n",
    "        if self._cavaleiro == True:\n",
    "            ataque = ataque * 0.5\n",
    "            \n",
    "        print(f'Seu ataque agora é {ataque}!')\n",
    "        \n",
    "        inimigo._pontos_vida = inimigo._pontos_vida - ataque\n",
    "        print(f'O inimigo {inimigo._nome.title()} está com {inimigo._pontos_vida} pontos de vida!')\n",
    "        \n",
    "        tela = TelaAtaqueFarroupilha('pranchando_adaga')\n",
    "        tela.iniciar()\n",
    "        \n",
    "        if inimigo._pontos_vida.__pos__() < 0:\n",
    "            print(\"Chuta só pra ter certeza que morreu\")\n",
    "        else:\n",
    "            print(\"Da proxima nao me escapa\")\n",
    "        return f'Guarda a adaga'\n",
    "    \n",
    "    \n",
    "    def mateando(self):\n",
    "        '''\n",
    "        Farroupilha faz uma fogueira, senta e vai tomar um bom mate para curar\n",
    "        suas dores.\n",
    "        '''\n",
    "        \n",
    "        print('Porque tradição sempre rima com chimarrão')\n",
    "        \n",
    "        regeneracao = 20 + (0.30*self._mateador)\n",
    "        \n",
    "        self._pontos_vida = self._pontos_vida + regeneracao\n",
    "        \n",
    "        tela = TelaAtaqueFarroupilha('mateando')\n",
    "        tela.iniciar()\n",
    "        \n",
    "        return f'A nova vida de {self._nome.title()} é {self._pontos_vida}'\n",
    "    \n",
    "\n",
    "    def pala(self, inimigo):\n",
    "        '''\n",
    "        Gaúcho se esconde na sua pala e finge que nada está acontecendo.\n",
    "        '''\n",
    "        defesa = 0\n",
    "        print(f'A defesa de {self._nome.title()} é {defesa}')\n",
    "        \n",
    "        inimigo._pontos_ataque = inimigo._pontos_ataque - defesa\n",
    "        \n",
    "        print(f'O ataque do inimigo {inimigo._nome.title()} diminuiu, agora é {inimigo._pontos_ataque}')\n",
    "        \n",
    "        tela = TelaAtaqueFarroupilha('pala')\n",
    "        tela.iniciar()\n",
    "        \n",
    "        if inimigo._pontos_ataque.__pos__() <= 0:\n",
    "            print(\"Esse inimigo não tem mais forças para lutar!\")\n",
    "        \n",
    "        else:\n",
    "            self._pontos_vida = self._pontos_vida - inimigo._pontos_ataque\n",
    "            print(f\"A vida de {self._nome.title()} é {self._pontos_vida}\")\n",
    "            \n",
    "            if self._pontos_vida.__pos__() <= 0:\n",
    "                print(\"Voce desfaleceu\")\n",
    "            else:\n",
    "                print(\"Essa pala te salvou vivente\")\n",
    "        \n",
    "        return f'Ningém tem paz nessa casa'\n",
    "\n",
    "\n",
    "    def desenhar_a_desgraca(self, inimigo):\n",
    "        '''\n",
    "        Farroupilha desenha a desgraça no corpo dos seus inimigos\n",
    "        '''\n",
    "        \n",
    "        ataque = self._pontos_ataque + self._guapo + (0.5 * self._pontos_ataque)\n",
    "        print(f'Seu ataque agora é {ataque}!')\n",
    "        \n",
    "        inimigo._pontos_vida = inimigo._pontos_vida - ataque\n",
    "        print(f'A vida de {inimigo._nome.title()} é {inimigo._pontos_vida}')\n",
    "        \n",
    "        tela = TelaAtaqueFarroupilha('desenhar_a_desgraca')\n",
    "        tela.iniciar()\n",
    "        \n",
    "        if inimigo._pontos_vida.__pos__() <= 0:\n",
    "            print(\"Esse inimigo não tem mais vida para lutar!\")\n",
    "            decepa_inimigo(inimigo)\n",
    "            print('buceta')\n",
    "            \n",
    "        else:\n",
    "            print(\"Na proxima ele não escapa!\")\n",
    "            \n",
    "        return 'Chega de chutar os cuscos morto'\n",
    "    \n",
    "    \n",
    "    def tertulia(self):\n",
    "        '''\n",
    "        Farroupilha convence seu inimigo a se\n",
    "            aprochegar para uma boa tertúlia. O inimigo desiste de atacar.\n",
    "        '''\n",
    "        \n",
    "        tela = TelaAtaqueFarroupilha('tertulia')\n",
    "        tela.iniciar()\n",
    "        \n",
    "        if self._diplomacia > 50 and self._guapo > 0:\n",
    "            return 'Chega de treta, vamos matear'\n",
    "        \n",
    "        else:\n",
    "            return 'Se lascamo, vamo degladiar'\n",
    "    \n",
    "    \n",
    "    def gritos_de_liberdade(self, inimigo):\n",
    "        '''\n",
    "        Gaúcho perde a noção de seus ideais de humanidade e parte para cima de\n",
    "            seus inimigos, é vida ou morte.\n",
    "        '''\n",
    "        ataque = self._pontos_ataque * self._guapo \n",
    "        \n",
    "        if self._cavaleiro is True:\n",
    "            ataque = ataque + (0.9 * self._pontos_ataque)\n",
    "        \n",
    "        print(f'Seu ataque agora é {ataque}!')\n",
    "        \n",
    "        inimigo._pontos_vida = inimigo._pontos_vida - ataque\n",
    "        print(f'A vida de {inimigo._nome.title()} é {inimigo._pontos_vida}')\n",
    "        \n",
    "        tela = TelaAtaqueFarroupilha('gritos_de_liberdade')\n",
    "        tela.iniciar()\n",
    "        \n",
    "        if inimigo._pontos_vida.__pos__() <= 0:\n",
    "            print(\"Esse inimigo não tem mais vida para lutar!\")\n",
    "            \n",
    "        else:\n",
    "            print(\"Na proxima ele não escapa!\")\n",
    "            \n",
    "        return 'Vento, cavalo, peão...'\n",
    "        \n",
    "        \n",
    "    def __str__(self):\n",
    "        return f'Um gauchao foi iniciado, nome: {self._nome.title()}'\n",
    "    \n"
   ]
  },
  {
   "cell_type": "code",
   "execution_count": null,
   "metadata": {},
   "outputs": [],
   "source": []
  },
  {
   "cell_type": "code",
   "execution_count": 21,
   "metadata": {},
   "outputs": [],
   "source": [
    "teste = Farroupilha('tretoso', 'atacudo', 10, 20, 30.0, 40.0, 50, 60, True, 70.0, 80)"
   ]
  },
  {
   "cell_type": "code",
   "execution_count": 589,
   "metadata": {},
   "outputs": [
    {
     "data": {
      "text/plain": [
       "<__main__.Farroupilha at 0x7fd1818a62d0>"
      ]
     },
     "execution_count": 589,
     "metadata": {},
     "output_type": "execute_result"
    }
   ],
   "source": [
    "gari"
   ]
  },
  {
   "cell_type": "code",
   "execution_count": 53,
   "metadata": {},
   "outputs": [],
   "source": [
    "gari = Farroupilha('garibaldi', 'atacudo', 10, 20, 30.0, 40.0, 50, 60, True, 70.0, 80)"
   ]
  },
  {
   "cell_type": "code",
   "execution_count": 50,
   "metadata": {},
   "outputs": [
    {
     "data": {
      "text/plain": [
       "<__main__.Farroupilha at 0x7fa57471da90>"
      ]
     },
     "execution_count": 50,
     "metadata": {},
     "output_type": "execute_result"
    }
   ],
   "source": [
    "gari"
   ]
  },
  {
   "cell_type": "code",
   "execution_count": 33,
   "metadata": {},
   "outputs": [
    {
     "name": "stdout",
     "output_type": "stream",
     "text": [
      "Um gauchao foi iniciado, nome: Garibaldi\n"
     ]
    }
   ],
   "source": [
    "print(gari)"
   ]
  },
  {
   "cell_type": "code",
   "execution_count": 34,
   "metadata": {},
   "outputs": [
    {
     "data": {
      "text/plain": [
       "('garibaldi', 'atacudo', 10, 20, 30.0)"
      ]
     },
     "execution_count": 34,
     "metadata": {},
     "output_type": "execute_result"
    }
   ],
   "source": [
    "gari.nome, gari.tipo, gari.distancia_ataque, gari.resistencia, gari.pontos_vida"
   ]
  },
  {
   "cell_type": "code",
   "execution_count": 35,
   "metadata": {},
   "outputs": [
    {
     "data": {
      "text/plain": [
       "(40.0, 50, 60, True, 70.0, 80)"
      ]
     },
     "execution_count": 35,
     "metadata": {},
     "output_type": "execute_result"
    }
   ],
   "source": [
    "gari.pontos_mana, gari.pontos_ataque, gari.diplomacia, gari.cavaleiro, gari.mateador, gari.guapo"
   ]
  },
  {
   "cell_type": "code",
   "execution_count": 36,
   "metadata": {},
   "outputs": [
    {
     "name": "stdout",
     "output_type": "stream",
     "text": [
      "Seu ataque agora é 65.0!\n",
      "O inimigo Tretoso está com -100.0 pontos de vida!\n",
      "Chuta só pra ter certeza que morreu\n"
     ]
    },
    {
     "data": {
      "text/plain": [
       "'Guarda a adaga'"
      ]
     },
     "execution_count": 36,
     "metadata": {},
     "output_type": "execute_result"
    }
   ],
   "source": [
    "gari.pranchando_adaga(teste)"
   ]
  },
  {
   "cell_type": "code",
   "execution_count": 37,
   "metadata": {},
   "outputs": [
    {
     "name": "stdout",
     "output_type": "stream",
     "text": [
      "Porque tradição sempre rima com chimarrão\n"
     ]
    },
    {
     "data": {
      "text/plain": [
       "'A nova vida de Garibaldi é 71.0'"
      ]
     },
     "execution_count": 37,
     "metadata": {},
     "output_type": "execute_result"
    }
   ],
   "source": [
    "gari.mateando()"
   ]
  },
  {
   "cell_type": "code",
   "execution_count": 38,
   "metadata": {},
   "outputs": [
    {
     "name": "stdout",
     "output_type": "stream",
     "text": [
      "A defesa de Garibaldi é 0\n",
      "O ataque do inimigo Tretoso diminuiu, agora é 50\n",
      "A vida de Garibaldi é 21.0\n",
      "Essa pala te salvou vivente\n"
     ]
    },
    {
     "data": {
      "text/plain": [
       "'Ningém tem paz nessa casa'"
      ]
     },
     "execution_count": 38,
     "metadata": {},
     "output_type": "execute_result"
    }
   ],
   "source": [
    "gari.pala(teste)"
   ]
  },
  {
   "cell_type": "code",
   "execution_count": 54,
   "metadata": {},
   "outputs": [
    {
     "name": "stdout",
     "output_type": "stream",
     "text": [
      "Seu ataque agora é 155.0!\n",
      "A vida de Tretoso é -720.0\n",
      "Esse inimigo não tem mais vida para lutar!\n",
      "buceta\n"
     ]
    },
    {
     "data": {
      "text/plain": [
       "'Chega de chutar os cuscos morto'"
      ]
     },
     "execution_count": 54,
     "metadata": {},
     "output_type": "execute_result"
    }
   ],
   "source": [
    "gari.desenhar_a_desgraca(teste)"
   ]
  },
  {
   "cell_type": "code",
   "execution_count": 55,
   "metadata": {},
   "outputs": [
    {
     "data": {
      "text/plain": [
       "<__main__.Farroupilha at 0x7fa574726ad0>"
      ]
     },
     "execution_count": 55,
     "metadata": {},
     "output_type": "execute_result"
    }
   ],
   "source": [
    "teste"
   ]
  },
  {
   "cell_type": "code",
   "execution_count": 587,
   "metadata": {},
   "outputs": [
    {
     "data": {
      "text/plain": [
       "'Chega de treta, vamos matear'"
      ]
     },
     "execution_count": 587,
     "metadata": {},
     "output_type": "execute_result"
    }
   ],
   "source": [
    "gari.tertulia()"
   ]
  },
  {
   "cell_type": "code",
   "execution_count": 588,
   "metadata": {},
   "outputs": [
    {
     "name": "stdout",
     "output_type": "stream",
     "text": [
      "Seu ataque agora é 4045.0!\n",
      "A vida de Tretoso é -4560.0\n",
      "Esse inimigo não tem mais vida para lutar!\n"
     ]
    },
    {
     "data": {
      "text/plain": [
       "'Vento, cavalo, peão...'"
      ]
     },
     "execution_count": 588,
     "metadata": {},
     "output_type": "execute_result"
    }
   ],
   "source": [
    "gari.gritos_de_liberdade(teste)"
   ]
  },
  {
   "cell_type": "code",
   "execution_count": null,
   "metadata": {},
   "outputs": [],
   "source": []
  },
  {
   "cell_type": "code",
   "execution_count": null,
   "metadata": {},
   "outputs": [],
   "source": []
  },
  {
   "cell_type": "code",
   "execution_count": null,
   "metadata": {},
   "outputs": [],
   "source": []
  },
  {
   "cell_type": "code",
   "execution_count": null,
   "metadata": {},
   "outputs": [],
   "source": []
  },
  {
   "cell_type": "code",
   "execution_count": null,
   "metadata": {},
   "outputs": [],
   "source": []
  },
  {
   "cell_type": "code",
   "execution_count": 600,
   "metadata": {},
   "outputs": [],
   "source": [
    "class Test:\n",
    "    def __del__(self):\n",
    "        print(\"deleted\")\n",
    "test = Test()\n"
   ]
  },
  {
   "cell_type": "code",
   "execution_count": 601,
   "metadata": {},
   "outputs": [
    {
     "name": "stdout",
     "output_type": "stream",
     "text": [
      "deleted\n"
     ]
    }
   ],
   "source": [
    "del test"
   ]
  },
  {
   "cell_type": "code",
   "execution_count": null,
   "metadata": {},
   "outputs": [],
   "source": []
  }
 ],
 "metadata": {
  "kernelspec": {
   "display_name": "Python 3",
   "language": "python",
   "name": "python3"
  },
  "language_info": {
   "codemirror_mode": {
    "name": "ipython",
    "version": 3
   },
   "file_extension": ".py",
   "mimetype": "text/x-python",
   "name": "python",
   "nbconvert_exporter": "python",
   "pygments_lexer": "ipython3",
   "version": "3.7.6"
  }
 },
 "nbformat": 4,
 "nbformat_minor": 4
}
