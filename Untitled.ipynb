{
 "cells": [
  {
   "cell_type": "code",
   "execution_count": 109,
   "metadata": {},
   "outputs": [],
   "source": [
    "import PySimpleGUI as sg "
   ]
  },
  {
   "cell_type": "code",
   "execution_count": 261,
   "metadata": {},
   "outputs": [],
   "source": [
    "class TelaAtaqueFarroupilha:\n",
    "    def __init__(self, ataque):\n",
    "        sg.change_look_and_feel('Purple')\n",
    "\n",
    "        panchando_adaga_img = \"/home/stefanini/Documentos/IESB/6to/05-poo/ImperiumRPG/imperiumRpg/Imagens/timo-werner-germany-world-cup_lmv4q43vvn2c1mxz4748tv7h8.png\"\n",
    "        mateando_img = \"/home/stefanini/Documentos/IESB/6to/05-poo/ImperiumRPG/imperiumRpg/Imagens/timo-werner-germany-world-cup_lmv4q43vvn2c1mxz4748tv7h8.png\"\n",
    "        pala_img = \"/home/stefanini/Documentos/IESB/6to/05-poo/ImperiumRPG/imperiumRpg/Imagens/90553736_2769081596521130_6112948483344302080_o.png\"\n",
    "        gritos_img = \"/home/stefanini/Documentos/IESB/6to/05-poo/ImperiumRPG/imperiumRpg/Imagens/Novo Projeto.png\"\n",
    "        desenhar_img = \"/home/stefanini/Documentos/IESB/6to/05-poo/ImperiumRPG/imperiumRpg/Imagens/5c6eada5a1c015297681b5f8.png\"\n",
    "        tertulia_img = \"/home/stefanini/Documentos/IESB/6to/05-poo/ImperiumRPG/imperiumRpg/Imagens/download.png\"\n",
    "        gritos_lib_img = \"/home/stefanini/Documentos/IESB/6to/05-poo/ImperiumRPG/imperiumRpg/Imagens/5c6eada5a1c015297681b5f8.png\"\n",
    "        morte_img = \"/home/stefanini/Documentos/IESB/6to/05-poo/ImperiumRPG/imperiumRpg/Imagens/Novo Projeto.png\"\n",
    "        pocao_img = \"/home/stefanini/Documentos/IESB/6to/05-poo/ImperiumRPG/imperiumRpg/Imagens/download.png\"\n",
    "        \n",
    "        imagens_gui = {\n",
    "            \"pranchando_adaga\": panchando_adaga_img,\n",
    "            \"mateando\": mateando_img,\n",
    "            \"pala\": pala_img,\n",
    "            \"grito_de_guerra\": gritos_img,\n",
    "            \"desenhar_a_desgraca\": desenhar_img,\n",
    "            \"tertulia\": tertulia_img, \n",
    "            \"gritos_de_liberdade\": gritos_lib_img,\n",
    "            \"morte\": morte_img,\n",
    "            \"pocao_ok\": pocao_img\n",
    "        }\n",
    "        \n",
    "        for key in imagens_gui:\n",
    "            if ataque == key:\n",
    "                ataque = imagens_gui[key]\n",
    "                break\n",
    "        \n",
    "        layout = [\n",
    "            [sg.Image(ataque),],\n",
    "            [sg.Text('Fulano ataca Ciclano', font='Courier 12', text_color='green', background_color='black')],\n",
    "            [sg.Text('sara')]\n",
    "        ]\n",
    "        \n",
    "        self.janela = sg.Window(\"Dados do usuário\").layout(layout)\n",
    "        \n",
    "    def iniciar(self):\n",
    "        while True:\n",
    "            self.button, self.values = self.janela.Read()\n",
    "            break\n",
    "        self.janela.close()"
   ]
  },
  {
   "cell_type": "code",
   "execution_count": 161,
   "metadata": {},
   "outputs": [],
   "source": [
    "@classmethod\n",
    "def get_total_contas(cls):\n",
    "    return cls._total_contas\n",
    "    # total contas n é atributo é uma variavel global da classe"
   ]
  },
  {
   "cell_type": "code",
   "execution_count": 162,
   "metadata": {},
   "outputs": [],
   "source": [
    "@staticmethod\n",
    "def get_total_contas():\n",
    "    return Conta._total_contas"
   ]
  },
  {
   "cell_type": "markdown",
   "metadata": {},
   "source": [
    "tela = TelaAtaqueFarroupilha('mateando')\n",
    "tela.iniciar()"
   ]
  },
  {
   "cell_type": "markdown",
   "metadata": {},
   "source": [
    "# Bugs\n",
    "\n",
    "* Quando utilizar o metodo pala, o objeto não pode se auto destruir, assim mesmo morto o personagem irá existir"
   ]
  },
  {
   "cell_type": "code",
   "execution_count": 262,
   "metadata": {},
   "outputs": [],
   "source": [
    "class GritoEx(NotImplementedError):\n",
    "    def __init__(self):\n",
    "        super().__init__('Grito de guerra é algo muito pessoal... \\n Como queres generalizar?')"
   ]
  },
  {
   "cell_type": "code",
   "execution_count": 263,
   "metadata": {},
   "outputs": [],
   "source": [
    "from abc import abstractmethod"
   ]
  },
  {
   "cell_type": "code",
   "execution_count": 264,
   "metadata": {},
   "outputs": [],
   "source": [
    "class Principal:\n",
    "    \n",
    "    @abstractmethod\n",
    "    def distancia_ataque(self):\n",
    "        print(\"entrei na distancia\")\n",
    "        return\n",
    "    \n",
    "    @abstractmethod\n",
    "    def resistencia(self):\n",
    "        return"
   ]
  },
  {
   "cell_type": "code",
   "execution_count": 323,
   "metadata": {},
   "outputs": [],
   "source": [
    "class Personagem(Principal):\n",
    "    def __init__(self, nome:str, tipo:int, distancia_ataque:int, resistencia:int,\n",
    "                  pontos_vida:float, pontos_mana:float, pontos_ataque:int):\n",
    "        self._nome = nome\n",
    "        self._tipo = tipo\n",
    "        self._distancia_ataque = distancia_ataque\n",
    "        self._resistencia = resistencia\n",
    "        self._pontos_vida = pontos_vida\n",
    "        self._pontos_mana = pontos_mana\n",
    "        self._pontos_ataque = pontos_ataque\n",
    "    \n",
    "    '''getters e setters'''\n",
    "    @property\n",
    "    def nome(self) -> str:\n",
    "        return self._nome\n",
    "    \n",
    "    @nome.setter\n",
    "    def nome(self, novo_nome:str):\n",
    "        self._nome = novo_nome\n",
    "        \n",
    "    @property\n",
    "    def tipo(self) -> str:\n",
    "        return self._tipo\n",
    "    \n",
    "    @tipo.setter\n",
    "    def tipo(self, novo_tipo:str):\n",
    "        self._tipo = novo_tipo\n",
    "        \n",
    "    @property\n",
    "    def distancia_ataque(self) -> int:\n",
    "        return self._distancia_ataque\n",
    "    \n",
    "    @distancia_ataque.setter\n",
    "    def distancia_ataque(self, novo_ataque: int):\n",
    "        self._distancia_ataque = novo_ataque\n",
    "        \n",
    "    @property\n",
    "    def resistencia(self) -> int:\n",
    "        return self._resistencia\n",
    "    \n",
    "    @resistencia.setter\n",
    "    def resistencia(self, nova_resistencia:int):\n",
    "        self._resistencia = nova_resistencia\n",
    "        \n",
    "    @property\n",
    "    def pontos_vida(self) -> float:\n",
    "        return self._pontos_vida\n",
    "    \n",
    "    @pontos_vida.setter\n",
    "    def pontos_vida(self, novo_pts_vida:float):\n",
    "        self._pontos_vida = novo_pts_vida\n",
    "        \n",
    "    @property\n",
    "    def pontos_mana(self) -> float:\n",
    "        return self._pontos_mana\n",
    "    \n",
    "    @pontos_mana.setter\n",
    "    def pontos_mana(self, novo_pts_mana: float):\n",
    "        self._pontos_mana = novo_pts_mana\n",
    "        \n",
    "    @property\n",
    "    def pontos_ataque(self) -> int:\n",
    "        return self._pontos_ataque\n",
    "    \n",
    "    @pontos_ataque.setter\n",
    "    def pontos_ataque(self, novo_pts_ataque:int):\n",
    "        self._pontos_ataque = novo_pts_ataque\n",
    "        \n",
    "    def grito_de_guerra(self): \n",
    "        raise GritoEx\n",
    "    \n",
    "    def _checa_mana(foo):\n",
    "        def verifica(self, *inimigo) :\n",
    "            if self._pontos_mana <= 10:\n",
    "                return print(f\"{self._nome.title()}  não tem mana o suficiente para executar esta ação!\")\n",
    "            else:\n",
    "                foo(self, *inimigo)\n",
    "        return verifica\n",
    "        \n",
    "    def _checa_vida(foo):\n",
    "        def verifica(self, *inimigo) :\n",
    "            if inimigo[0]._pontos_vida <= 0:\n",
    "                return print(f\"{inimigo[0]._nome.title()} não tem VIDA o suficiente para executar esta ação!\")\n",
    "            else:\n",
    "                foo(self, *inimigo)\n",
    "        return verifica\n",
    "    \n",
    "    @staticmethod\n",
    "    def _show_ataque(tipo_ataque:str):\n",
    "        tela = TelaAtaqueFarroupilha(tipo_ataque)\n",
    "        tela.iniciar()    \n",
    "\n",
    "    \n",
    "    def __del__(self):\n",
    "        return f'{self._nome.title()} bateu as bota'\n",
    "\n",
    "    def __str__(self):\n",
    "        print(f'Um gauchao foi iniciado, nome: {self._nome.title()}')\n",
    "        return f'Bem-vindo ao jogo: {self._nome.title()}'\n",
    "    \n",
    "    def __repr__(self):\n",
    "        return f'{self._nome.title()}'\n",
    "    \n"
   ]
  },
  {
   "cell_type": "code",
   "execution_count": 324,
   "metadata": {},
   "outputs": [
    {
     "ename": "GritoEx",
     "evalue": "Grito de guerra é algo muito pessoal... \n Como queres generalizar?",
     "output_type": "error",
     "traceback": [
      "\u001b[0;31m---------------------------------------------------------------------------\u001b[0m",
      "\u001b[0;31mGritoEx\u001b[0m                                   Traceback (most recent call last)",
      "\u001b[0;32m<ipython-input-324-b41245560e8b>\u001b[0m in \u001b[0;36m<module>\u001b[0;34m\u001b[0m\n\u001b[1;32m      1\u001b[0m \u001b[0mper\u001b[0m \u001b[0;34m=\u001b[0m \u001b[0mPersonagem\u001b[0m\u001b[0;34m(\u001b[0m\u001b[0;34m'olaf'\u001b[0m\u001b[0;34m,\u001b[0m \u001b[0;36m0\u001b[0m\u001b[0;34m,\u001b[0m \u001b[0;36m0\u001b[0m\u001b[0;34m,\u001b[0m \u001b[0;36m0\u001b[0m\u001b[0;34m,\u001b[0m \u001b[0;36m0\u001b[0m\u001b[0;34m,\u001b[0m \u001b[0;36m0\u001b[0m\u001b[0;34m,\u001b[0m \u001b[0;36m0\u001b[0m\u001b[0;34m)\u001b[0m\u001b[0;34m\u001b[0m\u001b[0;34m\u001b[0m\u001b[0m\n\u001b[0;32m----> 2\u001b[0;31m \u001b[0mper\u001b[0m\u001b[0;34m.\u001b[0m\u001b[0mgrito_de_guerra\u001b[0m\u001b[0;34m(\u001b[0m\u001b[0;34m)\u001b[0m\u001b[0;34m\u001b[0m\u001b[0;34m\u001b[0m\u001b[0m\n\u001b[0m",
      "\u001b[0;32m<ipython-input-323-a837b648f94d>\u001b[0m in \u001b[0;36mgrito_de_guerra\u001b[0;34m(self)\u001b[0m\n\u001b[1;32m     68\u001b[0m \u001b[0;34m\u001b[0m\u001b[0m\n\u001b[1;32m     69\u001b[0m     \u001b[0;32mdef\u001b[0m \u001b[0mgrito_de_guerra\u001b[0m\u001b[0;34m(\u001b[0m\u001b[0mself\u001b[0m\u001b[0;34m)\u001b[0m\u001b[0;34m:\u001b[0m\u001b[0;34m\u001b[0m\u001b[0;34m\u001b[0m\u001b[0m\n\u001b[0;32m---> 70\u001b[0;31m         \u001b[0;32mraise\u001b[0m \u001b[0mGritoEx\u001b[0m\u001b[0;34m\u001b[0m\u001b[0;34m\u001b[0m\u001b[0m\n\u001b[0m\u001b[1;32m     71\u001b[0m \u001b[0;34m\u001b[0m\u001b[0m\n\u001b[1;32m     72\u001b[0m     \u001b[0;32mdef\u001b[0m \u001b[0m_checa_mana\u001b[0m\u001b[0;34m(\u001b[0m\u001b[0mfoo\u001b[0m\u001b[0;34m)\u001b[0m\u001b[0;34m:\u001b[0m\u001b[0;34m\u001b[0m\u001b[0;34m\u001b[0m\u001b[0m\n",
      "\u001b[0;31mGritoEx\u001b[0m: Grito de guerra é algo muito pessoal... \n Como queres generalizar?"
     ]
    }
   ],
   "source": [
    "per = Personagem('olaf', 0, 0, 0, 0, 0, 0)\n",
    "per.grito_de_guerra()"
   ]
  },
  {
   "cell_type": "code",
   "execution_count": 325,
   "metadata": {},
   "outputs": [
    {
     "data": {
      "text/plain": [
       "'Olaf bateu as bota'"
      ]
     },
     "execution_count": 325,
     "metadata": {},
     "output_type": "execute_result"
    }
   ],
   "source": [
    "per.__del__()"
   ]
  },
  {
   "cell_type": "code",
   "execution_count": 334,
   "metadata": {},
   "outputs": [],
   "source": [
    "class Farroupilha(Personagem, TelaAtaqueFarroupilha):\n",
    "    def __init__(self, nome:str, tipo:int, distancia_ataque:int, resistencia:int,\n",
    "                  pontos_vida:float, pontos_mana:float, pontos_ataque:int, diplomacia:int,\n",
    "                  cavaleiro:bool, mateador:float, guapo:int):\n",
    "        super().__init__(nome, tipo, distancia_ataque, resistencia, pontos_vida, pontos_mana,\n",
    "                         pontos_ataque)\n",
    "        self._diplomacia = diplomacia\n",
    "        self._cavaleiro = cavaleiro\n",
    "        self._mateador = mateador\n",
    "        self._guapo = guapo\n",
    "    \n",
    "    @property\n",
    "    def diplomacia(self) -> int:\n",
    "        return self._diplomacia\n",
    "    \n",
    "    @diplomacia.setter\n",
    "    def diplomacia(self, nova_diplomacia:int):\n",
    "        self._diplomacia = diplomacia\n",
    "        \n",
    "    @property\n",
    "    def cavaleiro(self) -> bool:\n",
    "        return self._cavaleiro\n",
    "    \n",
    "    @cavaleiro.setter\n",
    "    def cavaleiro(self, novo_cavaleiro:bool):\n",
    "        self._cavaleiro = novo_cavaleiro\n",
    "        \n",
    "    @property\n",
    "    def mateador(self) -> float:\n",
    "        return self._mateador\n",
    "    \n",
    "    @mateador.setter\n",
    "    def mateador(self, novo_mateador:float):\n",
    "        self._novo_mateador = novo_mateador\n",
    "        \n",
    "    @property\n",
    "    def guapo(self) -> int:\n",
    "        return self._guapo\n",
    "    \n",
    "    @guapo.setter\n",
    "    def guapo(self, novo_guapo:int):\n",
    "        self._guapo = novo_guapo\n",
    "    \n",
    "    #     @_checa_mana\n",
    "    @Personagem._checa_vida\n",
    "    @Personagem._checa_mana\n",
    "    def pranchando_adaga(self, inimigo):\n",
    "        '''\n",
    "            Farroupilha saca a adaga da sua bota para desenhar o fio em seus\n",
    "            adversários.\n",
    "        '''\n",
    "        \n",
    "        ataque = (self._pontos_ataque + self._guapo)\n",
    "        \n",
    "        if self._cavaleiro == True:\n",
    "            ataque = ataque * 0.5\n",
    "            \n",
    "        print(f'Seu ataque agora é {ataque}!')\n",
    "        \n",
    "        inimigo._pontos_vida = inimigo._pontos_vida - ataque\n",
    "        print(f'O inimigo {inimigo._nome.title()} está com {inimigo._pontos_vida} pontos de vida!')\n",
    "        \n",
    "        self._show_ataque('pranchando_adaga')\n",
    "        \n",
    "        if inimigo._pontos_vida.__pos__() < 0:\n",
    "            print(\"Chuta só pra ter certeza que morreu\")\n",
    "        else:\n",
    "            print(\"Da proxima nao me escapa\")\n",
    "        return f'Guarda a adaga'\n",
    "    \n",
    "    @Personagem._checa_mana\n",
    "    def mateando(self):\n",
    "        '''\n",
    "        Farroupilha faz uma fogueira, senta e vai tomar um bom mate para curar\n",
    "        suas dores.\n",
    "        '''\n",
    "        \n",
    "        print('Porque tradição sempre rima com chimarrão')\n",
    "        \n",
    "        regeneracao = 20 + (0.30*self._mateador)\n",
    "        \n",
    "        self._pontos_vida = self._pontos_vida + regeneracao\n",
    "        \n",
    "        self._show_ataque('mateando')\n",
    "        \n",
    "        return f'A nova vida de {self._nome.title()} é {self._pontos_vida}'\n",
    "    \n",
    "    @Personagem._checa_vida\n",
    "    @Personagem._checa_mana\n",
    "    def pala(self, inimigo):\n",
    "        '''\n",
    "        Gaúcho se esconde na sua pala e finge que nada está acontecendo.\n",
    "        '''\n",
    "        defesa = 0\n",
    "        print(f'A defesa de {self._nome.title()} é {defesa}')\n",
    "        \n",
    "        inimigo._pontos_ataque = inimigo._pontos_ataque - defesa\n",
    "        \n",
    "        print(f'O ataque do inimigo {inimigo._nome.title()} diminuiu, agora é {inimigo._pontos_ataque}')\n",
    "        \n",
    "        self._show_ataque('pala')\n",
    "        \n",
    "        if inimigo._pontos_ataque.__pos__() <= 0:\n",
    "            print(\"Esse inimigo não tem mais forças para lutar!\")\n",
    "        \n",
    "        else:\n",
    "            self._pontos_vida = self._pontos_vida - inimigo._pontos_ataque\n",
    "            print(f\"A vida de {self._nome.title()} é {self._pontos_vida}\")\n",
    "            \n",
    "            if self._pontos_vida.__pos__() <= 0:\n",
    "                print(\"Voce desfaleceu\")\n",
    "            else:\n",
    "                print(\"Essa pala te salvou vivente\")\n",
    "        \n",
    "        return f'Ningém tem paz nessa casa'\n",
    "\n",
    "    @Personagem._checa_vida\n",
    "    @Personagem._checa_mana\n",
    "    def desenhar_a_desgraca(self, inimigo):\n",
    "        '''\n",
    "        Farroupilha desenha a desgraça no corpo dos seus inimigos\n",
    "        '''\n",
    "        \n",
    "        ataque = self._pontos_ataque + self._guapo + (0.5 * self._pontos_ataque)\n",
    "        print(f'Seu ataque agora é {ataque}!')\n",
    "        \n",
    "        inimigo._pontos_vida = inimigo._pontos_vida - ataque\n",
    "        print(f'A vida de {inimigo._nome.title()} é {inimigo._pontos_vida}')\n",
    "        \n",
    "        self._show_ataque('desenhar_a_desgraca')\n",
    "        \n",
    "        if inimigo._pontos_vida.__pos__() <= 0:\n",
    "            print(\"Esse inimigo não tem mais vida para lutar!\")\n",
    "            decepa_inimigo(inimigo)\n",
    "            print('buceta')\n",
    "            \n",
    "        else:\n",
    "            print(\"Na proxima ele não escapa!\")\n",
    "            \n",
    "        return 'Chega de chutar os cuscos morto'\n",
    "    \n",
    "    @Personagem._checa_mana\n",
    "    def tertulia(self):\n",
    "        '''\n",
    "        Farroupilha convence seu inimigo a se\n",
    "            aprochegar para uma boa tertúlia. O inimigo desiste de atacar.\n",
    "        '''\n",
    "        \n",
    "        self._show_ataque('tertulia')\n",
    "        \n",
    "        if self._diplomacia > 50 and self._guapo > 0:\n",
    "            return 'Chega de treta, vamos matear'\n",
    "        \n",
    "        else:\n",
    "            return 'Se lascamo, vamo degladiar'\n",
    "    \n",
    "    @Personagem._checa_vida\n",
    "    @Personagem._checa_mana\n",
    "    def gritos_de_liberdade(self, inimigo: Personagem):\n",
    "        '''\n",
    "        Gaúcho perde a noção de seus ideais de humanidade e parte para cima de\n",
    "            seus inimigos, é vida ou morte.\n",
    "        '''\n",
    "        ataque = self._pontos_ataque * self._guapo \n",
    "        \n",
    "        if self._cavaleiro is True:\n",
    "            ataque = ataque + (0.9 * self._pontos_ataque)\n",
    "        \n",
    "        print(f'Seu ataque agora é {ataque}!')\n",
    "        \n",
    "        inimigo._pontos_vida = inimigo._pontos_vida - ataque\n",
    "        print(f'A vida de {inimigo._nome.title()} é {inimigo._pontos_vida}')\n",
    "        \n",
    "        self._show_ataque('gritos_de_liberdade')\n",
    "        \n",
    "        if inimigo._pontos_vida.__pos__() <= 0:\n",
    "            print(\"Esse inimigo não tem mais vida para lutar!\")\n",
    "            \n",
    "        else:\n",
    "            print(\"Na proxima ele não escapa!\")\n",
    "            \n",
    "        return 'Vento, cavalo, peão...'\n",
    "    \n",
    "    def grito_de_guerra(self): \n",
    "        return f\"{self._nome.title()} diz: Buiatchaca\"\n",
    "    \n",
    "\n",
    "    def buff_tipe(self):\n",
    "        if self._tipo == 1:\n",
    "            ataque = super().distancia_ataque\n",
    "            self._distancia_ataque = ataque + 10\n",
    "            print(\"Buff de Ranged\")\n",
    "            \n",
    "        elif self._tipo == 0:\n",
    "            ataque = super()._resistencia\n",
    "            self._resistencia = ataque + 10\n",
    "            print(\"Buff de Melee\")\n",
    "        else:\n",
    "            pass "
   ]
  },
  {
   "cell_type": "code",
   "execution_count": 335,
   "metadata": {},
   "outputs": [
    {
     "name": "stdout",
     "output_type": "stream",
     "text": [
      "Um gauchao foi iniciado, nome: Tretoso\n",
      "Bem-vindo ao jogo: Tretoso\n"
     ]
    }
   ],
   "source": [
    "teste = Farroupilha('tretoso', 1, 10, 20, 60, 40.0, 50, 60, True, 70.0, 80)\n",
    "print(teste)"
   ]
  },
  {
   "cell_type": "code",
   "execution_count": 336,
   "metadata": {},
   "outputs": [
    {
     "data": {
      "text/plain": [
       "Tretoso"
      ]
     },
     "execution_count": 336,
     "metadata": {},
     "output_type": "execute_result"
    }
   ],
   "source": [
    "teste"
   ]
  },
  {
   "cell_type": "code",
   "execution_count": 337,
   "metadata": {},
   "outputs": [
    {
     "name": "stdout",
     "output_type": "stream",
     "text": [
      "Buff de Ranged\n"
     ]
    }
   ],
   "source": [
    "teste.buff_tipe()"
   ]
  },
  {
   "cell_type": "code",
   "execution_count": null,
   "metadata": {},
   "outputs": [],
   "source": []
  },
  {
   "cell_type": "code",
   "execution_count": null,
   "metadata": {},
   "outputs": [],
   "source": []
  },
  {
   "cell_type": "code",
   "execution_count": 208,
   "metadata": {},
   "outputs": [
    {
     "name": "stdout",
     "output_type": "stream",
     "text": [
      "Um gauchao foi iniciado, nome: Garibaldi\n",
      "Bem-vindo ao jogo: Garibaldi\n"
     ]
    }
   ],
   "source": [
    "gari = Farroupilha('garibaldi', 'atacudo', 10, 20, 30.0, 50.0, 50, 60, True, 70.0, 80)\n",
    "print(gari)"
   ]
  },
  {
   "cell_type": "code",
   "execution_count": 209,
   "metadata": {},
   "outputs": [
    {
     "data": {
      "text/plain": [
       "Garibaldi"
      ]
     },
     "execution_count": 209,
     "metadata": {},
     "output_type": "execute_result"
    }
   ],
   "source": [
    "gari"
   ]
  },
  {
   "cell_type": "code",
   "execution_count": 210,
   "metadata": {},
   "outputs": [
    {
     "data": {
      "text/plain": [
       "('garibaldi', 'atacudo', 10, 20, 30.0)"
      ]
     },
     "execution_count": 210,
     "metadata": {},
     "output_type": "execute_result"
    }
   ],
   "source": [
    "gari.nome, gari.tipo, gari.distancia_ataque, gari.resistencia, gari.pontos_vida"
   ]
  },
  {
   "cell_type": "code",
   "execution_count": 211,
   "metadata": {},
   "outputs": [
    {
     "data": {
      "text/plain": [
       "(50.0, 50, 60, True, 70.0, 80)"
      ]
     },
     "execution_count": 211,
     "metadata": {},
     "output_type": "execute_result"
    }
   ],
   "source": [
    "gari.pontos_mana, gari.pontos_ataque, gari.diplomacia, gari.cavaleiro, gari.mateador, gari.guapo"
   ]
  },
  {
   "cell_type": "code",
   "execution_count": 212,
   "metadata": {},
   "outputs": [
    {
     "data": {
      "text/plain": [
       "'Garibaldi diz: Buiatchaca'"
      ]
     },
     "execution_count": 212,
     "metadata": {},
     "output_type": "execute_result"
    }
   ],
   "source": [
    "gari.grito_de_guerra()"
   ]
  },
  {
   "cell_type": "code",
   "execution_count": 213,
   "metadata": {},
   "outputs": [
    {
     "name": "stdout",
     "output_type": "stream",
     "text": [
      "Seu ataque agora é 65.0!\n",
      "O inimigo Tretoso está com -5.0 pontos de vida!\n",
      "Chuta só pra ter certeza que morreu\n"
     ]
    }
   ],
   "source": [
    "gari.pranchando_adaga(teste)"
   ]
  },
  {
   "cell_type": "code",
   "execution_count": 214,
   "metadata": {},
   "outputs": [
    {
     "name": "stdout",
     "output_type": "stream",
     "text": [
      "Porque tradição sempre rima com chimarrão\n"
     ]
    }
   ],
   "source": [
    "gari.mateando()"
   ]
  },
  {
   "cell_type": "code",
   "execution_count": 215,
   "metadata": {},
   "outputs": [
    {
     "name": "stdout",
     "output_type": "stream",
     "text": [
      "Tretoso não tem VIDA o suficiente para executar esta ação!\n"
     ]
    }
   ],
   "source": [
    "gari.pala(teste)"
   ]
  },
  {
   "cell_type": "code",
   "execution_count": 216,
   "metadata": {},
   "outputs": [
    {
     "name": "stdout",
     "output_type": "stream",
     "text": [
      "Tretoso não tem VIDA o suficiente para executar esta ação!\n"
     ]
    }
   ],
   "source": [
    "gari.desenhar_a_desgraca(teste)"
   ]
  },
  {
   "cell_type": "code",
   "execution_count": 217,
   "metadata": {},
   "outputs": [
    {
     "data": {
      "text/plain": [
       "Tretoso"
      ]
     },
     "execution_count": 217,
     "metadata": {},
     "output_type": "execute_result"
    }
   ],
   "source": [
    "teste"
   ]
  },
  {
   "cell_type": "code",
   "execution_count": 218,
   "metadata": {},
   "outputs": [],
   "source": [
    "gari.tertulia()"
   ]
  },
  {
   "cell_type": "code",
   "execution_count": 219,
   "metadata": {},
   "outputs": [
    {
     "name": "stdout",
     "output_type": "stream",
     "text": [
      "Tretoso não tem VIDA o suficiente para executar esta ação!\n"
     ]
    }
   ],
   "source": [
    "gari.gritos_de_liberdade(teste)"
   ]
  },
  {
   "cell_type": "code",
   "execution_count": null,
   "metadata": {},
   "outputs": [],
   "source": []
  },
  {
   "cell_type": "code",
   "execution_count": null,
   "metadata": {},
   "outputs": [],
   "source": []
  },
  {
   "cell_type": "code",
   "execution_count": null,
   "metadata": {},
   "outputs": [],
   "source": []
  },
  {
   "cell_type": "code",
   "execution_count": null,
   "metadata": {},
   "outputs": [],
   "source": []
  },
  {
   "cell_type": "code",
   "execution_count": null,
   "metadata": {},
   "outputs": [],
   "source": []
  },
  {
   "cell_type": "code",
   "execution_count": 600,
   "metadata": {},
   "outputs": [],
   "source": [
    "class Test:\n",
    "    def __del__(self):\n",
    "        print(\"deleted\")\n",
    "test = Test()\n"
   ]
  },
  {
   "cell_type": "code",
   "execution_count": 601,
   "metadata": {},
   "outputs": [
    {
     "name": "stdout",
     "output_type": "stream",
     "text": [
      "deleted\n"
     ]
    }
   ],
   "source": [
    "del test"
   ]
  },
  {
   "cell_type": "code",
   "execution_count": null,
   "metadata": {},
   "outputs": [],
   "source": []
  }
 ],
 "metadata": {
  "kernelspec": {
   "display_name": "Python 3",
   "language": "python",
   "name": "python3"
  },
  "language_info": {
   "codemirror_mode": {
    "name": "ipython",
    "version": 3
   },
   "file_extension": ".py",
   "mimetype": "text/x-python",
   "name": "python",
   "nbconvert_exporter": "python",
   "pygments_lexer": "ipython3",
   "version": "3.7.6"
  }
 },
 "nbformat": 4,
 "nbformat_minor": 4
}
